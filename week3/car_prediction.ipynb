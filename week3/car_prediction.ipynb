{
 "cells": [
  {
   "cell_type": "code",
   "execution_count": 47,
   "id": "b7023a3c-5174-4b67-9ecc-58a77cd6f09c",
   "metadata": {},
   "outputs": [],
   "source": [
    "import pandas as pd\n",
    "import numpy as np\n",
    "import matplotlib.pyplot as plt\n"
   ]
  },
  {
   "cell_type": "markdown",
   "id": "32fcd57a-1232-4cef-be53-96a05726481e",
   "metadata": {},
   "source": [
    "### Data Preparation"
   ]
  },
  {
   "cell_type": "code",
   "execution_count": 48,
   "id": "b042bb7c-07d0-4bbc-9b88-9d96ef15b057",
   "metadata": {},
   "outputs": [
    {
     "data": {
      "text/html": [
       "<div>\n",
       "<style scoped>\n",
       "    .dataframe tbody tr th:only-of-type {\n",
       "        vertical-align: middle;\n",
       "    }\n",
       "\n",
       "    .dataframe tbody tr th {\n",
       "        vertical-align: top;\n",
       "    }\n",
       "\n",
       "    .dataframe thead th {\n",
       "        text-align: right;\n",
       "    }\n",
       "</style>\n",
       "<table border=\"1\" class=\"dataframe\">\n",
       "  <thead>\n",
       "    <tr style=\"text-align: right;\">\n",
       "      <th></th>\n",
       "      <th>Make</th>\n",
       "      <th>Model</th>\n",
       "      <th>Year</th>\n",
       "      <th>Engine Fuel Type</th>\n",
       "      <th>Engine HP</th>\n",
       "      <th>Engine Cylinders</th>\n",
       "      <th>Transmission Type</th>\n",
       "      <th>Driven_Wheels</th>\n",
       "      <th>Number of Doors</th>\n",
       "      <th>Market Category</th>\n",
       "      <th>Vehicle Size</th>\n",
       "      <th>Vehicle Style</th>\n",
       "      <th>highway MPG</th>\n",
       "      <th>city mpg</th>\n",
       "      <th>Popularity</th>\n",
       "      <th>MSRP</th>\n",
       "    </tr>\n",
       "  </thead>\n",
       "  <tbody>\n",
       "    <tr>\n",
       "      <th>0</th>\n",
       "      <td>BMW</td>\n",
       "      <td>1 Series M</td>\n",
       "      <td>2011</td>\n",
       "      <td>premium unleaded (required)</td>\n",
       "      <td>335.0</td>\n",
       "      <td>6.0</td>\n",
       "      <td>MANUAL</td>\n",
       "      <td>rear wheel drive</td>\n",
       "      <td>2.0</td>\n",
       "      <td>Factory Tuner,Luxury,High-Performance</td>\n",
       "      <td>Compact</td>\n",
       "      <td>Coupe</td>\n",
       "      <td>26</td>\n",
       "      <td>19</td>\n",
       "      <td>3916</td>\n",
       "      <td>46135</td>\n",
       "    </tr>\n",
       "    <tr>\n",
       "      <th>1</th>\n",
       "      <td>BMW</td>\n",
       "      <td>1 Series</td>\n",
       "      <td>2011</td>\n",
       "      <td>premium unleaded (required)</td>\n",
       "      <td>300.0</td>\n",
       "      <td>6.0</td>\n",
       "      <td>MANUAL</td>\n",
       "      <td>rear wheel drive</td>\n",
       "      <td>2.0</td>\n",
       "      <td>Luxury,Performance</td>\n",
       "      <td>Compact</td>\n",
       "      <td>Convertible</td>\n",
       "      <td>28</td>\n",
       "      <td>19</td>\n",
       "      <td>3916</td>\n",
       "      <td>40650</td>\n",
       "    </tr>\n",
       "    <tr>\n",
       "      <th>2</th>\n",
       "      <td>BMW</td>\n",
       "      <td>1 Series</td>\n",
       "      <td>2011</td>\n",
       "      <td>premium unleaded (required)</td>\n",
       "      <td>300.0</td>\n",
       "      <td>6.0</td>\n",
       "      <td>MANUAL</td>\n",
       "      <td>rear wheel drive</td>\n",
       "      <td>2.0</td>\n",
       "      <td>Luxury,High-Performance</td>\n",
       "      <td>Compact</td>\n",
       "      <td>Coupe</td>\n",
       "      <td>28</td>\n",
       "      <td>20</td>\n",
       "      <td>3916</td>\n",
       "      <td>36350</td>\n",
       "    </tr>\n",
       "    <tr>\n",
       "      <th>3</th>\n",
       "      <td>BMW</td>\n",
       "      <td>1 Series</td>\n",
       "      <td>2011</td>\n",
       "      <td>premium unleaded (required)</td>\n",
       "      <td>230.0</td>\n",
       "      <td>6.0</td>\n",
       "      <td>MANUAL</td>\n",
       "      <td>rear wheel drive</td>\n",
       "      <td>2.0</td>\n",
       "      <td>Luxury,Performance</td>\n",
       "      <td>Compact</td>\n",
       "      <td>Coupe</td>\n",
       "      <td>28</td>\n",
       "      <td>18</td>\n",
       "      <td>3916</td>\n",
       "      <td>29450</td>\n",
       "    </tr>\n",
       "    <tr>\n",
       "      <th>4</th>\n",
       "      <td>BMW</td>\n",
       "      <td>1 Series</td>\n",
       "      <td>2011</td>\n",
       "      <td>premium unleaded (required)</td>\n",
       "      <td>230.0</td>\n",
       "      <td>6.0</td>\n",
       "      <td>MANUAL</td>\n",
       "      <td>rear wheel drive</td>\n",
       "      <td>2.0</td>\n",
       "      <td>Luxury</td>\n",
       "      <td>Compact</td>\n",
       "      <td>Convertible</td>\n",
       "      <td>28</td>\n",
       "      <td>18</td>\n",
       "      <td>3916</td>\n",
       "      <td>34500</td>\n",
       "    </tr>\n",
       "  </tbody>\n",
       "</table>\n",
       "</div>"
      ],
      "text/plain": [
       "  Make       Model  Year             Engine Fuel Type  Engine HP  \\\n",
       "0  BMW  1 Series M  2011  premium unleaded (required)      335.0   \n",
       "1  BMW    1 Series  2011  premium unleaded (required)      300.0   \n",
       "2  BMW    1 Series  2011  premium unleaded (required)      300.0   \n",
       "3  BMW    1 Series  2011  premium unleaded (required)      230.0   \n",
       "4  BMW    1 Series  2011  premium unleaded (required)      230.0   \n",
       "\n",
       "   Engine Cylinders Transmission Type     Driven_Wheels  Number of Doors  \\\n",
       "0               6.0            MANUAL  rear wheel drive              2.0   \n",
       "1               6.0            MANUAL  rear wheel drive              2.0   \n",
       "2               6.0            MANUAL  rear wheel drive              2.0   \n",
       "3               6.0            MANUAL  rear wheel drive              2.0   \n",
       "4               6.0            MANUAL  rear wheel drive              2.0   \n",
       "\n",
       "                         Market Category Vehicle Size Vehicle Style  \\\n",
       "0  Factory Tuner,Luxury,High-Performance      Compact         Coupe   \n",
       "1                     Luxury,Performance      Compact   Convertible   \n",
       "2                Luxury,High-Performance      Compact         Coupe   \n",
       "3                     Luxury,Performance      Compact         Coupe   \n",
       "4                                 Luxury      Compact   Convertible   \n",
       "\n",
       "   highway MPG  city mpg  Popularity   MSRP  \n",
       "0           26        19        3916  46135  \n",
       "1           28        19        3916  40650  \n",
       "2           28        20        3916  36350  \n",
       "3           28        18        3916  29450  \n",
       "4           28        18        3916  34500  "
      ]
     },
     "execution_count": 48,
     "metadata": {},
     "output_type": "execute_result"
    }
   ],
   "source": [
    "df = pd.read_csv('carprice.csv')\n",
    "df.head()"
   ]
  },
  {
   "cell_type": "code",
   "execution_count": 49,
   "id": "5dd31196-2c89-40b5-be10-a73f7d3da471",
   "metadata": {},
   "outputs": [],
   "source": [
    "df.columns = df.columns.str.lower().str.replace(' ', '_')"
   ]
  },
  {
   "cell_type": "code",
   "execution_count": 50,
   "id": "b80ab7ea-a686-4b5b-8c4b-687f6118c28a",
   "metadata": {},
   "outputs": [],
   "source": [
    "str_columns = list(df.dtypes[df.dtypes == 'object'].index)\n",
    "for col in str_columns:\n",
    "    df[col] = df[col].str.lower().str.replace(' ', '_')"
   ]
  },
  {
   "cell_type": "code",
   "execution_count": 51,
   "id": "3aa69587-703d-46c4-9e27-fa52342b3083",
   "metadata": {},
   "outputs": [],
   "source": [
    "df.isnull().sum()\n",
    "df = df.fillna(0)\n",
    "df.msrp = np.log1p(df.msrp)"
   ]
  },
  {
   "cell_type": "code",
   "execution_count": 52,
   "id": "55e40776-1a4f-4d36-8170-82bc26e6b748",
   "metadata": {},
   "outputs": [
    {
     "data": {
      "text/plain": [
       "((7148, 16),\n",
       " (2383, 16),\n",
       "           make       model  year                engine_fuel_type  engine_hp  \\\n",
       " 0          bmw  1_series_m  2011     premium_unleaded_(required)      335.0   \n",
       " 1          bmw    1_series  2011     premium_unleaded_(required)      300.0   \n",
       " 2          bmw    1_series  2011     premium_unleaded_(required)      300.0   \n",
       " 3          bmw    1_series  2011     premium_unleaded_(required)      230.0   \n",
       " 4          bmw    1_series  2011     premium_unleaded_(required)      230.0   \n",
       " ...        ...         ...   ...                             ...        ...   \n",
       " 11909    acura         zdx  2012     premium_unleaded_(required)      300.0   \n",
       " 11910    acura         zdx  2012     premium_unleaded_(required)      300.0   \n",
       " 11911    acura         zdx  2012     premium_unleaded_(required)      300.0   \n",
       " 11912    acura         zdx  2013  premium_unleaded_(recommended)      300.0   \n",
       " 11913  lincoln      zephyr  2006                regular_unleaded      221.0   \n",
       " \n",
       "        engine_cylinders transmission_type      driven_wheels  number_of_doors  \\\n",
       " 0                   6.0            manual   rear_wheel_drive              2.0   \n",
       " 1                   6.0            manual   rear_wheel_drive              2.0   \n",
       " 2                   6.0            manual   rear_wheel_drive              2.0   \n",
       " 3                   6.0            manual   rear_wheel_drive              2.0   \n",
       " 4                   6.0            manual   rear_wheel_drive              2.0   \n",
       " ...                 ...               ...                ...              ...   \n",
       " 11909               6.0         automatic    all_wheel_drive              4.0   \n",
       " 11910               6.0         automatic    all_wheel_drive              4.0   \n",
       " 11911               6.0         automatic    all_wheel_drive              4.0   \n",
       " 11912               6.0         automatic    all_wheel_drive              4.0   \n",
       " 11913               6.0         automatic  front_wheel_drive              4.0   \n",
       " \n",
       "                              market_category vehicle_size  vehicle_style  \\\n",
       " 0      factory_tuner,luxury,high-performance      compact          coupe   \n",
       " 1                         luxury,performance      compact    convertible   \n",
       " 2                    luxury,high-performance      compact          coupe   \n",
       " 3                         luxury,performance      compact          coupe   \n",
       " 4                                     luxury      compact    convertible   \n",
       " ...                                      ...          ...            ...   \n",
       " 11909             crossover,hatchback,luxury      midsize  4dr_hatchback   \n",
       " 11910             crossover,hatchback,luxury      midsize  4dr_hatchback   \n",
       " 11911             crossover,hatchback,luxury      midsize  4dr_hatchback   \n",
       " 11912             crossover,hatchback,luxury      midsize  4dr_hatchback   \n",
       " 11913                                 luxury      midsize          sedan   \n",
       " \n",
       "        highway_mpg  city_mpg  popularity       msrp  \n",
       " 0               26        19        3916  10.739349  \n",
       " 1               28        19        3916  10.612779  \n",
       " 2               28        20        3916  10.500977  \n",
       " 3               28        18        3916  10.290483  \n",
       " 4               28        18        3916  10.448744  \n",
       " ...            ...       ...         ...        ...  \n",
       " 11909           23        16         204  10.739024  \n",
       " 11910           23        16         204  10.945018  \n",
       " 11911           23        16         204  10.832122  \n",
       " 11912           23        16         204  10.838031  \n",
       " 11913           26        17          61  10.274913  \n",
       " \n",
       " [11914 rows x 16 columns])"
      ]
     },
     "execution_count": 52,
     "metadata": {},
     "output_type": "execute_result"
    }
   ],
   "source": [
    "from sklearn.model_selection import train_test_split\n",
    "df_fulltrain, df_test = train_test_split(df, test_size=0.2, random_state =1)\n",
    "df_train, df_val = train_test_split(df_fulltrain, test_size=0.25, random_state =1)\n",
    "df_train.shape, df_val.shape, df"
   ]
  },
  {
   "cell_type": "code",
   "execution_count": 53,
   "id": "4506853b-c7a1-495a-96f9-575f4e4c792c",
   "metadata": {},
   "outputs": [],
   "source": [
    "df_train = df_train.reset_index(drop=True)\n",
    "y_train = df_train.msrp\n",
    "del df_train['msrp']\n",
    "\n",
    "df_val = df_val.reset_index(drop=True)\n",
    "y_val = df_val.msrp\n",
    "del df_val['msrp']\n",
    "\n",
    "df_test = df_test.reset_index(drop=True)\n",
    "y_test = df_test.msrp\n",
    "del df_test['msrp']"
   ]
  },
  {
   "cell_type": "markdown",
   "id": "c875ba66-9a79-489d-9b94-3cf1c4ccd5ac",
   "metadata": {},
   "source": [
    "### Encoding"
   ]
  },
  {
   "cell_type": "code",
   "execution_count": 54,
   "id": "59b781fc-1976-4a2d-9171-8e638d439e1a",
   "metadata": {},
   "outputs": [],
   "source": [
    "from sklearn.feature_extraction import DictVectorizer\n",
    "dv = DictVectorizer(sparse=False)\n",
    "dict_train = df_train.to_dict(orient = 'records')\n",
    "dict_val = df_val.to_dict(orient = 'records')\n",
    "dict_test = df_test.to_dict(orient = 'records')\n",
    "dv.fit(dict_train)\n",
    "X_train = dv.transform(dict_train)\n",
    "X_val = dv.transform(dict_val)\n",
    "X_test = dv.transform(dict_test)"
   ]
  },
  {
   "cell_type": "markdown",
   "id": "40463bff-f984-4bea-959a-39f45a703c00",
   "metadata": {},
   "source": [
    "### Training and Validating the Model"
   ]
  },
  {
   "cell_type": "code",
   "execution_count": 55,
   "id": "98335761-dc7b-4e19-9a92-8babf6e38866",
   "metadata": {},
   "outputs": [
    {
     "data": {
      "text/plain": [
       "(array([-0.00545723,  0.00986012,  0.06006716, ..., -0.09791402,\n",
       "        -0.06747942,  0.03738444], shape=(1046,)),\n",
       " np.float64(-65.26473910648342))"
      ]
     },
     "execution_count": 55,
     "metadata": {},
     "output_type": "execute_result"
    }
   ],
   "source": [
    "from sklearn.linear_model import LinearRegression\n",
    "lmodel = LinearRegression()\n",
    "lmodel.fit(X_train, y_train)\n",
    "w = lmodel.coef_\n",
    "w0 = lmodel.intercept_\n",
    "w, w0"
   ]
  },
  {
   "cell_type": "code",
   "execution_count": 56,
   "id": "64ab783f-3a57-4de5-963f-58c1e9a766d8",
   "metadata": {},
   "outputs": [],
   "source": [
    "predict = lmodel.predict(X_val)"
   ]
  },
  {
   "cell_type": "code",
   "execution_count": 57,
   "id": "92bb186f-a7f3-424f-a3e9-964f9f6126e6",
   "metadata": {},
   "outputs": [
    {
     "data": {
      "text/plain": [
       "np.float64(0.22431793135130162)"
      ]
     },
     "execution_count": 57,
     "metadata": {},
     "output_type": "execute_result"
    }
   ],
   "source": [
    "from sklearn.metrics import mean_squared_error\n",
    "np.sqrt(mean_squared_error(predict, y_val))"
   ]
  },
  {
   "cell_type": "code",
   "execution_count": 58,
   "id": "fd9ac280-19e9-47ad-a3cc-74e243411752",
   "metadata": {},
   "outputs": [
    {
     "data": {
      "text/plain": [
       "np.float64(0.22431793135130162)"
      ]
     },
     "execution_count": 58,
     "metadata": {},
     "output_type": "execute_result"
    }
   ],
   "source": [
    "def rmse(y_predict, y_actual):\n",
    "    mean_square = np.mean((y_predict - y_actual) ** 2)\n",
    "    return np.sqrt(mean_square)\n",
    "\n",
    "rmse(predict, y_val)"
   ]
  },
  {
   "cell_type": "code",
   "execution_count": 72,
   "id": "d7692dea-d84e-48f5-a393-c7b7963f8c17",
   "metadata": {},
   "outputs": [
    {
     "data": {
      "text/plain": [
       "np.float64(0.20995805398396564)"
      ]
     },
     "execution_count": 72,
     "metadata": {},
     "output_type": "execute_result"
    }
   ],
   "source": [
    "from sklearn.linear_model import Ridge\n",
    "rmodel = Ridge(alpha = 0.1)\n",
    "rmodel.fit(X_train, y_train)\n",
    "rpredict = rmodel.predict(X_val)\n",
    "rmse(rpredict, y_val)"
   ]
  },
  {
   "cell_type": "code",
   "execution_count": 60,
   "id": "49ee31bf-27a5-4645-83bb-f0745305c1f0",
   "metadata": {},
   "outputs": [
    {
     "data": {
      "text/plain": [
       "<matplotlib.legend.Legend at 0x7411be200230>"
      ]
     },
     "execution_count": 60,
     "metadata": {},
     "output_type": "execute_result"
    },
    {
     "data": {
      "image/png": "[encoded data removed]",
      "text/plain": [
       "<Figure size 640x480 with 1 Axes>"
      ]
     },
     "metadata": {},
     "output_type": "display_data"
    }
   ],
   "source": [
    "import seaborn as srn\n",
    "srn.histplot(rpredict, label='prediction', color='red', alpha=0.5, bins=50)\n",
    "srn.histplot(y_val, label='actual', color='blue', alpha=0.5, bins=50)\n",
    "plt.legend()"
   ]
  },
  {
   "cell_type": "code",
   "execution_count": 74,
   "id": "80687aed-26b4-43a0-af55-e27a1f07ef1e",
   "metadata": {},
   "outputs": [
    {
     "data": {
      "text/plain": [
       "np.float64(0.1912366409415642)"
      ]
     },
     "execution_count": 74,
     "metadata": {},
     "output_type": "execute_result"
    }
   ],
   "source": [
    "rmodel.fit(np.concatenate([X_train, X_val]), np.concatenate([y_train, y_val]))\n",
    "rpredict  = rmodel.predict(X_test)\n",
    "rmse(rpredict, y_test)"
   ]
  },
  {
   "cell_type": "code",
   "execution_count": 75,
   "id": "819d1bc6-3ff3-4c6f-bcfb-7bffa9f2f882",
   "metadata": {},
   "outputs": [
    {
     "data": {
      "text/plain": [
       "<matplotlib.legend.Legend at 0x7411af943fe0>"
      ]
     },
     "execution_count": 75,
     "metadata": {},
     "output_type": "execute_result"
    },
    {
     "data": {
      "image/png": "[encoded data removed]",
      "text/plain": [
       "<Figure size 640x480 with 1 Axes>"
      ]
     },
     "metadata": {},
     "output_type": "display_data"
    }
   ],
   "source": [
    "srn.histplot(rpredict, label='prediction', color='red', alpha=0.5, bins=50)\n",
    "srn.histplot(y_val, label='actual', color='blue', alpha=0.5, bins=50)\n",
    "plt.legend()"
   ]
  },
  {
   "cell_type": "code",
   "execution_count": null,
   "id": "7599834c-c4e7-4b09-97ef-60ee610d064f",
   "metadata": {},
   "outputs": [],
   "source": []
  }
 ],
 "metadata": {
  "kernelspec": {
   "display_name": "Python 3 (ipykernel)",
   "language": "python",
   "name": "python3"
  },
  "language_info": {
   "codemirror_mode": {
    "name": "ipython",
    "version": 3
   },
   "file_extension": ".py",
   "mimetype": "text/x-python",
   "name": "python",
   "nbconvert_exporter": "python",
   "pygments_lexer": "ipython3",
   "version": "3.12.3"
  }
 },
 "nbformat": 4,
 "nbformat_minor": 5
}
