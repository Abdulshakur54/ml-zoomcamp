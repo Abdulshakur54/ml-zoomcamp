{
 "cells": [
  {
   "cell_type": "markdown",
   "id": "11c0ecf2-610f-4fba-89e6-65d5929b2d80",
   "metadata": {},
   "source": [
    "## 2.0 Car Price Prediction project using Regression"
   ]
  },
  {
   "cell_type": "markdown",
   "id": "54b28ca4-9075-480b-9f3a-2384d4fa38f4",
   "metadata": {},
   "source": [
    "### 2.1 Importing Libraries"
   ]
  },
  {
   "cell_type": "code",
   "execution_count": 51,
   "id": "42845354-e03b-4961-b111-5bfee4864254",
   "metadata": {},
   "outputs": [],
   "source": [
    "import pandas as pd\n",
    "import matplotlib.pyplot as plt\n",
    "import seaborn as sbn"
   ]
  },
  {
   "cell_type": "markdown",
   "id": "f60fe82b-45b9-4b77-97a2-a6b031968236",
   "metadata": {},
   "source": [
    "### 2.2 Data Preparation"
   ]
  },
  {
   "cell_type": "code",
   "execution_count": 52,
   "id": "d880ae48-4473-4bbf-bdfd-c820e53008ef",
   "metadata": {},
   "outputs": [],
   "source": [
    "df = pd.read_csv('data.csv')\n",
    "df.head()\n",
    "df.columns = df.columns.str.lower().str.replace(' ','_')\n",
    "str_cols = list(df.dtypes[df.dtypes == object].index)\n",
    "for col in str_cols:\n",
    "    df[col] = df[col].str.lower()"
   ]
  },
  {
   "cell_type": "markdown",
   "id": "b29ad5c2-ccfe-4c77-9b65-8bb2eaaebd9b",
   "metadata": {},
   "source": [
    "### 2.3 Data Exploration and Analysis"
   ]
  },
  {
   "cell_type": "code",
   "execution_count": 55,
   "id": "fccc18a2-c226-4a48-b458-77b86054ae79",
   "metadata": {},
   "outputs": [
    {
     "data": {
      "text/plain": [
       "<bound method DataFrame.value_counts of           make       model  year                engine_fuel_type  engine_hp  \\\n",
       "0          bmw  1 series m  2011     premium unleaded (required)      335.0   \n",
       "1          bmw    1 series  2011     premium unleaded (required)      300.0   \n",
       "2          bmw    1 series  2011     premium unleaded (required)      300.0   \n",
       "3          bmw    1 series  2011     premium unleaded (required)      230.0   \n",
       "4          bmw    1 series  2011     premium unleaded (required)      230.0   \n",
       "...        ...         ...   ...                             ...        ...   \n",
       "11909    acura         zdx  2012     premium unleaded (required)      300.0   \n",
       "11910    acura         zdx  2012     premium unleaded (required)      300.0   \n",
       "11911    acura         zdx  2012     premium unleaded (required)      300.0   \n",
       "11912    acura         zdx  2013  premium unleaded (recommended)      300.0   \n",
       "11913  lincoln      zephyr  2006                regular unleaded      221.0   \n",
       "\n",
       "       engine_cylinders transmission_type      driven_wheels  number_of_doors  \\\n",
       "0                   6.0            manual   rear wheel drive              2.0   \n",
       "1                   6.0            manual   rear wheel drive              2.0   \n",
       "2                   6.0            manual   rear wheel drive              2.0   \n",
       "3                   6.0            manual   rear wheel drive              2.0   \n",
       "4                   6.0            manual   rear wheel drive              2.0   \n",
       "...                 ...               ...                ...              ...   \n",
       "11909               6.0         automatic    all wheel drive              4.0   \n",
       "11910               6.0         automatic    all wheel drive              4.0   \n",
       "11911               6.0         automatic    all wheel drive              4.0   \n",
       "11912               6.0         automatic    all wheel drive              4.0   \n",
       "11913               6.0         automatic  front wheel drive              4.0   \n",
       "\n",
       "                             market_category vehicle_size  vehicle_style  \\\n",
       "0      factory tuner,luxury,high-performance      compact          coupe   \n",
       "1                         luxury,performance      compact    convertible   \n",
       "2                    luxury,high-performance      compact          coupe   \n",
       "3                         luxury,performance      compact          coupe   \n",
       "4                                     luxury      compact    convertible   \n",
       "...                                      ...          ...            ...   \n",
       "11909             crossover,hatchback,luxury      midsize  4dr hatchback   \n",
       "11910             crossover,hatchback,luxury      midsize  4dr hatchback   \n",
       "11911             crossover,hatchback,luxury      midsize  4dr hatchback   \n",
       "11912             crossover,hatchback,luxury      midsize  4dr hatchback   \n",
       "11913                                 luxury      midsize          sedan   \n",
       "\n",
       "       highway_mpg  city_mpg  popularity   msrp  \n",
       "0               26        19        3916  46135  \n",
       "1               28        19        3916  40650  \n",
       "2               28        20        3916  36350  \n",
       "3               28        18        3916  29450  \n",
       "4               28        18        3916  34500  \n",
       "...            ...       ...         ...    ...  \n",
       "11909           23        16         204  46120  \n",
       "11910           23        16         204  56670  \n",
       "11911           23        16         204  50620  \n",
       "11912           23        16         204  50920  \n",
       "11913           26        17          61  28995  \n",
       "\n",
       "[11914 rows x 16 columns]>"
      ]
     },
     "execution_count": 55,
     "metadata": {},
     "output_type": "execute_result"
    }
   ],
   "source": []
  }
 ],
 "metadata": {
  "kernelspec": {
   "display_name": "Python 3 (ipykernel)",
   "language": "python",
   "name": "python3"
  },
  "language_info": {
   "codemirror_mode": {
    "name": "ipython",
    "version": 3
   },
   "file_extension": ".py",
   "mimetype": "text/x-python",
   "name": "python",
   "nbconvert_exporter": "python",
   "pygments_lexer": "ipython3",
   "version": "3.12.3"
  }
 },
 "nbformat": 4,
 "nbformat_minor": 5
}
