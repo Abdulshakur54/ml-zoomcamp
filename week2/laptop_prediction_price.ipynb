{
 "cells": [
  {
   "cell_type": "markdown",
   "id": "2a271969-9088-4745-86c0-1780005a25bd",
   "metadata": {},
   "source": [
    "### 2.1 Import libraries"
   ]
  },
  {
   "cell_type": "code",
   "execution_count": 42,
   "id": "04c7eb2b-641d-4ed9-b962-e111b74ddfed",
   "metadata": {},
   "outputs": [],
   "source": [
    "import pandas as pd\n",
    "import numpy as np\n",
    "import matplotlib.pyplot as plt\n",
    "import seaborn as srn"
   ]
  },
  {
   "cell_type": "markdown",
   "id": "6853a318-ccda-4efd-b39a-6763d29f91d9",
   "metadata": {},
   "source": [
    "## 2.2 Read and explore data"
   ]
  },
  {
   "cell_type": "code",
   "execution_count": 43,
   "id": "bc745b14-7621-45f0-9120-6639545e99bd",
   "metadata": {},
   "outputs": [
    {
     "name": "stdout",
     "output_type": "stream",
     "text": [
      "Unique Count [Laptop]: 2160 | Null values: [Laptop] 0\n",
      "Unique Count [Status]: 2 | Null values: [Status] 0\n",
      "Unique Count [Brand]: 27 | Null values: [Brand] 0\n",
      "Unique Count [Model]: 121 | Null values: [Model] 0\n",
      "Unique Count [CPU]: 28 | Null values: [CPU] 0\n",
      "Unique Count [RAM]: 9 | Null values: [RAM] 0\n",
      "Unique Count [Storage]: 12 | Null values: [Storage] 0\n",
      "Unique Count [Storage type]: 3 | Null values: [Storage type] 42\n",
      "Unique Count [GPU]: 45 | Null values: [GPU] 1371\n",
      "Unique Count [Screen]: 30 | Null values: [Screen] 4\n",
      "Unique Count [Touch]: 2 | Null values: [Touch] 0\n",
      "Unique Count [Final Price]: 1440 | Null values: [Final Price] 0\n"
     ]
    },
    {
     "data": {
      "text/plain": [
       "Screen\n",
       "15.60    1009\n",
       "14.00     392\n",
       "16.00     174\n",
       "17.30     161\n",
       "13.30     131\n",
       "16.10      48\n",
       "17.00      33\n",
       "13.00      27\n",
       "15.00      21\n",
       "13.40      19\n",
       "13.50      19\n",
       "11.60      16\n",
       "14.20      14\n",
       "12.30      13\n",
       "14.10      11\n",
       "13.60      11\n",
       "16.20      10\n",
       "15.30       8\n",
       "10.50       7\n",
       "12.40       6\n",
       "14.40       6\n",
       "15.40       5\n",
       "12.00       4\n",
       "18.00       3\n",
       "14.50       3\n",
       "13.90       2\n",
       "12.50       1\n",
       "10.95       1\n",
       "10.10       1\n",
       "Name: count, dtype: int64"
      ]
     },
     "execution_count": 43,
     "metadata": {},
     "output_type": "execute_result"
    }
   ],
   "source": [
    "df = pd.read_csv('laptops.csv')\n",
    "df.head()\n",
    "columns = list(df.columns)\n",
    "df.shape\n",
    "for col in columns:\n",
    "    print(f'Unique Count [{col}]:', df[col].unique().shape[0], '|', f'Null values: [{col}]', df[col].isnull().sum())\n",
    "df['Storage type'].value_counts()\n",
    "df['GPU'].value_counts()\n",
    "df['Screen'].value_counts()\n"
   ]
  },
  {
   "cell_type": "code",
   "execution_count": 44,
   "id": "f9bf4ac8-00b8-425f-8f20-e2466fe940db",
   "metadata": {},
   "outputs": [
    {
     "data": {
      "text/plain": [
       "Index(['laptop', 'status', 'brand', 'model', 'cpu', 'ram', 'storage',\n",
       "       'storage_type', 'gpu', 'screen', 'touch', 'final_price'],\n",
       "      dtype='object')"
      ]
     },
     "execution_count": 44,
     "metadata": {},
     "output_type": "execute_result"
    }
   ],
   "source": [
    "df.columns = df.columns.str.lower().str.replace(' ', '_')\n",
    "df.columns"
   ]
  },
  {
   "cell_type": "code",
   "execution_count": 45,
   "id": "5328b4b5-ec3e-4a41-8737-f8142b54a231",
   "metadata": {},
   "outputs": [
    {
     "data": {
      "text/plain": [
       "count    2160.000000\n",
       "mean       15.413889\n",
       "std         9.867815\n",
       "min         4.000000\n",
       "25%         8.000000\n",
       "50%        16.000000\n",
       "75%        16.000000\n",
       "max       128.000000\n",
       "Name: ram, dtype: float64"
      ]
     },
     "execution_count": 45,
     "metadata": {},
     "output_type": "execute_result"
    }
   ],
   "source": [
    "df = df[['ram','storage','screen','final_price']]\n",
    "df.ram.describe()"
   ]
  },
  {
   "cell_type": "markdown",
   "id": "ab5b779d-97b9-4f63-a8a5-3fcc3e943af2",
   "metadata": {},
   "source": [
    "### Shuffle Dataset"
   ]
  },
  {
   "cell_type": "code",
   "execution_count": 75,
   "id": "8d511009-3ae9-470f-a68e-b21cee7e4e36",
   "metadata": {},
   "outputs": [],
   "source": [
    "ind = np.arange(df.shape[0])\n",
    "np.random.seed(9)\n",
    "np.random.shuffle(ind)\n",
    "df = df.loc[ind]\n",
    "shuffled_df = df.reset_index(drop=True)\n",
    "target = np.log1p(shuffled_df.final_price)\n",
    "features = shuffled_df.drop('final_price', axis=1)\n",
    "length = shuffled_df.shape[0]\n",
    "val_len = test_len = int(0.2 * length)\n",
    "train_len =  length - val_len - test_len\n",
    "features\n",
    "train_df = features.iloc[:train_len]\n",
    "train_target = target.iloc[:train_len]\n",
    "val_df = features.iloc[train_len:train_len + val_len]\n",
    "val_target = target.iloc[train_len:train_len + val_len]\n",
    "test_df = features.iloc[train_len + val_len:train_len + val_len + test_len]\n",
    "test_target = target.iloc[train_len + val_len:train_len + val_len + test_len]\n",
    "train_df = train_df.reset_index(drop=True)\n",
    "train_target = train_target.reset_index(drop=True)\n",
    "val_df = val_df.reset_index(drop=True)\n",
    "val_target = val_target.reset_index(drop=True)\n",
    "test_df = test_df.reset_index(drop=True)\n",
    "test_target = test_target.reset_index(drop=True)"
   ]
  },
  {
   "cell_type": "code",
   "execution_count": 76,
   "id": "7700f52d-b13a-4263-bc0f-d18b89071d05",
   "metadata": {},
   "outputs": [],
   "source": [
    "def prepare_using_mean(df):\n",
    "    df =  df.copy()\n",
    "    columns = ['ram','storage','screen']\n",
    "    for col in columns:\n",
    "        df[col] = df[col].fillna(df[col].mean())\n",
    "    return df.values\n",
    "\n",
    "\n",
    "def prepare_using_null(df):\n",
    "    df =  df.copy()\n",
    "    df = df.fillna(0)\n",
    "    return df.values\n",
    "\n",
    "\n",
    "def train_model(X, y, r=0.1):\n",
    "    ones = np.ones(X.shape[0])\n",
    "    X = np.column_stack([ones,X])\n",
    "    XTX = X.T.dot(X)\n",
    "    XTX = XTX + np.eye(XTX.shape[0]) * r\n",
    "    XTX_inv = np.linalg.inv(XTX)\n",
    "    w = XTX_inv.dot(X.T).dot(y)\n",
    "    return w[0], w[1:]\n",
    "    \n",
    "\n",
    "def rmse(y_predict,y_target):\n",
    "    error_sqr = (y_target - y_predict) ** 2\n",
    "    mean = error_sqr.mean()\n",
    "    return np.sqrt(mean)\n",
    "\n",
    "    \n",
    "    "
   ]
  },
  {
   "cell_type": "code",
   "execution_count": 77,
   "id": "d2115d2e-8194-49e2-b319-143f3728ab66",
   "metadata": {},
   "outputs": [
    {
     "data": {
      "text/plain": [
       "(np.float64(0.40821572942762985), np.float64(0.4086976364337416))"
      ]
     },
     "execution_count": 77,
     "metadata": {},
     "output_type": "execute_result"
    }
   ],
   "source": [
    "X_train1 = prepare_using_mean(train_df)\n",
    "X_train2 = prepare_using_null(train_df)\n",
    "w0_1, w_1 = train_model(X_train1, train_target)\n",
    "w0_2, w_2 = train_model(X_train2, train_target)\n",
    "X_val1 = prepare_using_mean(val_df)\n",
    "X_val2 = prepare_using_null(val_df)\n",
    "val_predict1 = w0_1 + X_val1.dot(w_1)\n",
    "val_predict2 = w0_2 + X_val2.dot(w_2)\n",
    "rmse(val_predict1, val_target), rmse(val_predict2, val_target)"
   ]
  },
  {
   "cell_type": "markdown",
   "id": "ce98cd1e-3f29-4cbc-aefb-40bad2c2b906",
   "metadata": {},
   "source": [
    "### Regularization"
   ]
  },
  {
   "cell_type": "code",
   "execution_count": 78,
   "id": "a4cf71ba-d321-4268-aefd-1353db6edd81",
   "metadata": {},
   "outputs": [
    {
     "name": "stdout",
     "output_type": "stream",
     "text": [
      "0.4076787526157211\n",
      "0.4077373365059483\n",
      "0.4083011489068823\n",
      "0.41667958170305036\n",
      "0.46846867415246296\n",
      "0.5179916877129596\n",
      "0.6544364872359453\n"
     ]
    }
   ],
   "source": [
    "for r in [0, 0.01, 0.1, 1, 5, 10, 100]:\n",
    "    X_train = prepare_using_null(train_df)\n",
    "    w0, w = train_model(X_train, train_target,r)\n",
    "    X_val = prepare_using_null(val_df)\n",
    "    val_predict = w0 + X_val1.dot(w)\n",
    "    print(rmse(val_predict, val_target))"
   ]
  },
  {
   "cell_type": "code",
   "execution_count": null,
   "id": "ffc18070-3047-413f-bf09-b3f41ec1391e",
   "metadata": {},
   "outputs": [],
   "source": []
  },
  {
   "cell_type": "code",
   "execution_count": null,
   "id": "3ef1a746-99cd-4bdf-a2cc-87aa204e6db5",
   "metadata": {},
   "outputs": [],
   "source": []
  }
 ],
 "metadata": {
  "kernelspec": {
   "display_name": "Python 3 (ipykernel)",
   "language": "python",
   "name": "python3"
  },
  "language_info": {
   "codemirror_mode": {
    "name": "ipython",
    "version": 3
   },
   "file_extension": ".py",
   "mimetype": "text/x-python",
   "name": "python",
   "nbconvert_exporter": "python",
   "pygments_lexer": "ipython3",
   "version": "3.12.3"
  }
 },
 "nbformat": 4,
 "nbformat_minor": 5
}
