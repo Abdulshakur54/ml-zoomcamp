{
 "cells": [
  {
   "cell_type": "markdown",
   "id": "11c0ecf2-610f-4fba-89e6-65d5929b2d80",
   "metadata": {},
   "source": [
    "## 2.0 Car Price Prediction project using Regression"
   ]
  },
  {
   "cell_type": "markdown",
   "id": "54b28ca4-9075-480b-9f3a-2384d4fa38f4",
   "metadata": {},
   "source": [
    "### 2.1 Importing Libraries"
   ]
  },
  {
   "cell_type": "code",
   "execution_count": 284,
   "id": "42845354-e03b-4961-b111-5bfee4864254",
   "metadata": {},
   "outputs": [],
   "source": [
    "import pandas as pd\n",
    "import numpy as np\n",
    "import matplotlib.pyplot as plt\n",
    "import seaborn as sbn"
   ]
  },
  {
   "cell_type": "markdown",
   "id": "f60fe82b-45b9-4b77-97a2-a6b031968236",
   "metadata": {},
   "source": [
    "### 2.2 Data Preparation"
   ]
  },
  {
   "cell_type": "code",
   "execution_count": 285,
   "id": "d880ae48-4473-4bbf-bdfd-c820e53008ef",
   "metadata": {},
   "outputs": [],
   "source": [
    "df = pd.read_csv('data.csv')\n",
    "df.head()\n",
    "df.columns = df.columns.str.lower().str.replace(' ','_')\n",
    "str_cols = list(df.dtypes[df.dtypes == object].index)\n",
    "for col in str_cols:\n",
    "    df[col] = df[col].str.lower()"
   ]
  },
  {
   "cell_type": "markdown",
   "id": "b29ad5c2-ccfe-4c77-9b65-8bb2eaaebd9b",
   "metadata": {},
   "source": [
    "### 2.3 Data Exploration and Analysis"
   ]
  },
  {
   "cell_type": "code",
   "execution_count": 286,
   "id": "8ad71403-81e5-418e-85af-23e8114d641e",
   "metadata": {},
   "outputs": [
    {
     "name": "stdout",
     "output_type": "stream",
     "text": [
      "**** make ****\n",
      "count         11914\n",
      "unique           48\n",
      "top       chevrolet\n",
      "freq           1123\n",
      "Name: make, dtype: object\n",
      "unique\n",
      "['bmw' 'audi' 'fiat' 'mercedes-benz' 'chrysler']\n",
      "count of null: 0\n",
      "\n",
      "\n",
      "**** model ****\n",
      "count              11914\n",
      "unique               914\n",
      "top       silverado 1500\n",
      "freq                 156\n",
      "Name: model, dtype: object\n",
      "unique\n",
      "['1 series m' '1 series' '100' '124 spider' '190-class']\n",
      "count of null: 0\n",
      "\n",
      "\n",
      "**** year ****\n",
      "count    11914.000000\n",
      "mean      2010.384338\n",
      "std          7.579740\n",
      "min       1990.000000\n",
      "25%       2007.000000\n",
      "50%       2015.000000\n",
      "75%       2016.000000\n",
      "max       2017.000000\n",
      "Name: year, dtype: float64\n",
      "unique\n",
      "[2011 2012 2013 1992 1993]\n",
      "count of null: 0\n",
      "\n",
      "\n",
      "**** engine_fuel_type ****\n",
      "count                11911\n",
      "unique                  11\n",
      "top       regular unleaded\n",
      "freq                  7172\n",
      "Name: engine_fuel_type, dtype: object\n",
      "unique\n",
      "['premium unleaded (required)' 'premium unleaded (requiredb zza  )'\n",
      " 'regular unleaded' 'premium unleaded (recommended)'\n",
      " 'flex-fuel (unleaded/e85)']\n",
      "count of null: 3\n",
      "\n",
      "\n",
      "**** engine_hp ****\n",
      "count    11845.00000\n",
      "mean       249.38607\n",
      "std        109.19187\n",
      "min         55.00000\n",
      "25%        170.00000\n",
      "50%        227.00000\n",
      "75%        300.00000\n",
      "max       1001.00000\n",
      "Name: engine_hp, dtype: float64\n",
      "unique\n",
      "[335. 300. 230. 320. 172.]\n",
      "count of null: 69\n",
      "\n",
      "\n",
      "**** engine_cylinders ****\n",
      "count    11884.000000\n",
      "mean         5.628829\n",
      "std          1.780559\n",
      "min          0.000000\n",
      "25%          4.000000\n",
      "50%          6.000000\n",
      "75%          6.000000\n",
      "max         16.000000\n",
      "Name: engine_cylinders, dtype: float64\n",
      "unique\n",
      "[ 6.  4.  5.  8. 12.]\n",
      "count of null: 30\n",
      "\n",
      "\n",
      "**** transmission_type ****\n",
      "count         11914\n",
      "unique            5\n",
      "top       automatic\n",
      "freq           8266\n",
      "Name: transmission_type, dtype: object\n",
      "unique\n",
      "['manual' 'automatic' 'automated_manual' 'direct_drive' 'unknown']\n",
      "count of null: 0\n",
      "\n",
      "\n",
      "**** driven_wheels ****\n",
      "count                 11914\n",
      "unique                    4\n",
      "top       front wheel drive\n",
      "freq                   4787\n",
      "Name: driven_wheels, dtype: object\n",
      "unique\n",
      "['rear wheel drive' 'front wheel drive' 'all wheel drive'\n",
      " 'four wheel drive']\n",
      "count of null: 0\n",
      "\n",
      "\n",
      "**** number_of_doors ****\n",
      "count    11908.000000\n",
      "mean         3.436093\n",
      "std          0.881315\n",
      "min          2.000000\n",
      "25%          2.000000\n",
      "50%          4.000000\n",
      "75%          4.000000\n",
      "max          4.000000\n",
      "Name: number_of_doors, dtype: float64\n",
      "unique\n",
      "[ 2.  4.  3. nan]\n",
      "count of null: 6\n",
      "\n",
      "\n",
      "**** market_category ****\n",
      "count          8172\n",
      "unique           71\n",
      "top       crossover\n",
      "freq           1110\n",
      "Name: market_category, dtype: object\n",
      "unique\n",
      "['factory tuner,luxury,high-performance' 'luxury,performance'\n",
      " 'luxury,high-performance' 'luxury' 'performance']\n",
      "count of null: 3742\n",
      "\n",
      "\n",
      "**** vehicle_size ****\n",
      "count       11914\n",
      "unique          3\n",
      "top       compact\n",
      "freq         4764\n",
      "Name: vehicle_size, dtype: object\n",
      "unique\n",
      "['compact' 'midsize' 'large']\n",
      "count of null: 0\n",
      "\n",
      "\n",
      "**** vehicle_style ****\n",
      "count     11914\n",
      "unique       16\n",
      "top       sedan\n",
      "freq       3048\n",
      "Name: vehicle_style, dtype: object\n",
      "unique\n",
      "['coupe' 'convertible' 'sedan' 'wagon' '4dr hatchback']\n",
      "count of null: 0\n",
      "\n",
      "\n",
      "**** highway_mpg ****\n",
      "count    11914.000000\n",
      "mean        26.637485\n",
      "std          8.863001\n",
      "min         12.000000\n",
      "25%         22.000000\n",
      "50%         26.000000\n",
      "75%         30.000000\n",
      "max        354.000000\n",
      "Name: highway_mpg, dtype: float64\n",
      "unique\n",
      "[26 28 27 25 24]\n",
      "count of null: 0\n",
      "\n",
      "\n",
      "**** city_mpg ****\n",
      "count    11914.000000\n",
      "mean        19.733255\n",
      "std          8.987798\n",
      "min          7.000000\n",
      "25%         16.000000\n",
      "50%         18.000000\n",
      "75%         22.000000\n",
      "max        137.000000\n",
      "Name: city_mpg, dtype: float64\n",
      "unique\n",
      "[19 20 18 17 16]\n",
      "count of null: 0\n",
      "\n",
      "\n",
      "**** popularity ****\n",
      "count    11914.000000\n",
      "mean      1554.911197\n",
      "std       1441.855347\n",
      "min          2.000000\n",
      "25%        549.000000\n",
      "50%       1385.000000\n",
      "75%       2009.000000\n",
      "max       5657.000000\n",
      "Name: popularity, dtype: float64\n",
      "unique\n",
      "[3916 3105  819  617 1013]\n",
      "count of null: 0\n",
      "\n",
      "\n",
      "**** msrp ****\n",
      "count    1.191400e+04\n",
      "mean     4.059474e+04\n",
      "std      6.010910e+04\n",
      "min      2.000000e+03\n",
      "25%      2.100000e+04\n",
      "50%      2.999500e+04\n",
      "75%      4.223125e+04\n",
      "max      2.065902e+06\n",
      "Name: msrp, dtype: float64\n",
      "unique\n",
      "[46135 40650 36350 29450 34500]\n",
      "count of null: 0\n",
      "\n",
      "\n"
     ]
    }
   ],
   "source": [
    "for col in df.columns:\n",
    "    print(f'**** {col} ****')\n",
    "    print(df[col].describe())\n",
    "    print('unique')\n",
    "    print(df[col].unique()[:5])\n",
    "    print(f'count of null: {df[col].isnull().sum()}')\n",
    "    print(\"\\n\")"
   ]
  },
  {
   "cell_type": "code",
   "execution_count": 287,
   "id": "6afe981f-5e2a-42c8-9353-403cb86c5ecd",
   "metadata": {},
   "outputs": [
    {
     "data": {
      "text/plain": [
       "<Axes: xlabel='msrp', ylabel='Count'>"
      ]
     },
     "execution_count": 287,
     "metadata": {},
     "output_type": "execute_result"
    },
    {
     "data": {
      "image/png": "[encoded data removed]",
      "text/plain": [
       "<Figure size 640x480 with 1 Axes>"
      ]
     },
     "metadata": {},
     "output_type": "display_data"
    }
   ],
   "source": [
    "%matplotlib inline\n",
    "sbn.histplot(df.msrp, bins=50, label= 'tail', color='red', alpha=0.5)\n"
   ]
  },
  {
   "cell_type": "code",
   "execution_count": 288,
   "id": "c1406dd7-3a9d-45cf-9c66-f85dd270b7c8",
   "metadata": {},
   "outputs": [
    {
     "data": {
      "text/plain": [
       "<Axes: xlabel='msrp', ylabel='Count'>"
      ]
     },
     "execution_count": 288,
     "metadata": {},
     "output_type": "execute_result"
    },
    {
     "data": {
      "image/png": "[encoded data removed]",
      "text/plain": [
       "<Figure size 640x480 with 1 Axes>"
      ]
     },
     "metadata": {},
     "output_type": "display_data"
    }
   ],
   "source": [
    "normal_msrp = np.log1p(df.msrp)\n",
    "sbn.histplot(normal_msrp, bins=50, label = 'normal', color='blue', alpha=0.5)"
   ]
  },
  {
   "cell_type": "markdown",
   "id": "7cd1e594-765a-4944-8b67-1aea49cc033f",
   "metadata": {},
   "source": [
    "### 2.4 Handling Null values"
   ]
  },
  {
   "cell_type": "code",
   "execution_count": 289,
   "id": "12011d92-1fc7-496e-8f36-54e0fe6030e8",
   "metadata": {},
   "outputs": [],
   "source": [
    "for col in df.columns:\n",
    "    df[col] = df[col].fillna(0)"
   ]
  },
  {
   "cell_type": "markdown",
   "id": "2f8e3b05-bf8f-42b9-8371-fbbe54a1c204",
   "metadata": {},
   "source": [
    "### 2.5 Setting up the validation framework"
   ]
  },
  {
   "cell_type": "code",
   "execution_count": 290,
   "id": "d76cafa3-2f84-40b0-a917-89abec006f7a",
   "metadata": {},
   "outputs": [
    {
     "data": {
      "text/html": [
       "<div>\n",
       "<style scoped>\n",
       "    .dataframe tbody tr th:only-of-type {\n",
       "        vertical-align: middle;\n",
       "    }\n",
       "\n",
       "    .dataframe tbody tr th {\n",
       "        vertical-align: top;\n",
       "    }\n",
       "\n",
       "    .dataframe thead th {\n",
       "        text-align: right;\n",
       "    }\n",
       "</style>\n",
       "<table border=\"1\" class=\"dataframe\">\n",
       "  <thead>\n",
       "    <tr style=\"text-align: right;\">\n",
       "      <th></th>\n",
       "      <th>make</th>\n",
       "      <th>model</th>\n",
       "      <th>year</th>\n",
       "      <th>engine_fuel_type</th>\n",
       "      <th>engine_hp</th>\n",
       "      <th>engine_cylinders</th>\n",
       "      <th>transmission_type</th>\n",
       "      <th>driven_wheels</th>\n",
       "      <th>number_of_doors</th>\n",
       "      <th>market_category</th>\n",
       "      <th>vehicle_size</th>\n",
       "      <th>vehicle_style</th>\n",
       "      <th>highway_mpg</th>\n",
       "      <th>city_mpg</th>\n",
       "      <th>popularity</th>\n",
       "      <th>msrp</th>\n",
       "    </tr>\n",
       "  </thead>\n",
       "  <tbody>\n",
       "    <tr>\n",
       "      <th>0</th>\n",
       "      <td>pontiac</td>\n",
       "      <td>le mans</td>\n",
       "      <td>1991</td>\n",
       "      <td>regular unleaded</td>\n",
       "      <td>74.0</td>\n",
       "      <td>4.0</td>\n",
       "      <td>manual</td>\n",
       "      <td>front wheel drive</td>\n",
       "      <td>2.0</td>\n",
       "      <td>0</td>\n",
       "      <td>compact</td>\n",
       "      <td>coupe</td>\n",
       "      <td>34</td>\n",
       "      <td>25</td>\n",
       "      <td>210</td>\n",
       "      <td>2000</td>\n",
       "    </tr>\n",
       "    <tr>\n",
       "      <th>1</th>\n",
       "      <td>hyundai</td>\n",
       "      <td>tucson</td>\n",
       "      <td>2017</td>\n",
       "      <td>regular unleaded</td>\n",
       "      <td>175.0</td>\n",
       "      <td>4.0</td>\n",
       "      <td>automated_manual</td>\n",
       "      <td>front wheel drive</td>\n",
       "      <td>4.0</td>\n",
       "      <td>crossover</td>\n",
       "      <td>compact</td>\n",
       "      <td>4dr suv</td>\n",
       "      <td>32</td>\n",
       "      <td>26</td>\n",
       "      <td>1439</td>\n",
       "      <td>24150</td>\n",
       "    </tr>\n",
       "    <tr>\n",
       "      <th>2</th>\n",
       "      <td>toyota</td>\n",
       "      <td>camry solara</td>\n",
       "      <td>2006</td>\n",
       "      <td>regular unleaded</td>\n",
       "      <td>157.0</td>\n",
       "      <td>4.0</td>\n",
       "      <td>automatic</td>\n",
       "      <td>front wheel drive</td>\n",
       "      <td>2.0</td>\n",
       "      <td>0</td>\n",
       "      <td>midsize</td>\n",
       "      <td>coupe</td>\n",
       "      <td>30</td>\n",
       "      <td>20</td>\n",
       "      <td>2031</td>\n",
       "      <td>20360</td>\n",
       "    </tr>\n",
       "    <tr>\n",
       "      <th>3</th>\n",
       "      <td>toyota</td>\n",
       "      <td>corolla</td>\n",
       "      <td>2015</td>\n",
       "      <td>regular unleaded</td>\n",
       "      <td>140.0</td>\n",
       "      <td>4.0</td>\n",
       "      <td>automatic</td>\n",
       "      <td>front wheel drive</td>\n",
       "      <td>4.0</td>\n",
       "      <td>0</td>\n",
       "      <td>compact</td>\n",
       "      <td>sedan</td>\n",
       "      <td>40</td>\n",
       "      <td>30</td>\n",
       "      <td>2031</td>\n",
       "      <td>19665</td>\n",
       "    </tr>\n",
       "    <tr>\n",
       "      <th>4</th>\n",
       "      <td>chevrolet</td>\n",
       "      <td>astro</td>\n",
       "      <td>2005</td>\n",
       "      <td>regular unleaded</td>\n",
       "      <td>190.0</td>\n",
       "      <td>6.0</td>\n",
       "      <td>automatic</td>\n",
       "      <td>rear wheel drive</td>\n",
       "      <td>3.0</td>\n",
       "      <td>0</td>\n",
       "      <td>large</td>\n",
       "      <td>passenger minivan</td>\n",
       "      <td>20</td>\n",
       "      <td>14</td>\n",
       "      <td>1385</td>\n",
       "      <td>24430</td>\n",
       "    </tr>\n",
       "    <tr>\n",
       "      <th>...</th>\n",
       "      <td>...</td>\n",
       "      <td>...</td>\n",
       "      <td>...</td>\n",
       "      <td>...</td>\n",
       "      <td>...</td>\n",
       "      <td>...</td>\n",
       "      <td>...</td>\n",
       "      <td>...</td>\n",
       "      <td>...</td>\n",
       "      <td>...</td>\n",
       "      <td>...</td>\n",
       "      <td>...</td>\n",
       "      <td>...</td>\n",
       "      <td>...</td>\n",
       "      <td>...</td>\n",
       "      <td>...</td>\n",
       "    </tr>\n",
       "    <tr>\n",
       "      <th>11909</th>\n",
       "      <td>dodge</td>\n",
       "      <td>stealth</td>\n",
       "      <td>1994</td>\n",
       "      <td>regular unleaded</td>\n",
       "      <td>320.0</td>\n",
       "      <td>6.0</td>\n",
       "      <td>manual</td>\n",
       "      <td>all wheel drive</td>\n",
       "      <td>2.0</td>\n",
       "      <td>factory tuner,performance</td>\n",
       "      <td>compact</td>\n",
       "      <td>coupe</td>\n",
       "      <td>22</td>\n",
       "      <td>16</td>\n",
       "      <td>1851</td>\n",
       "      <td>2823</td>\n",
       "    </tr>\n",
       "    <tr>\n",
       "      <th>11910</th>\n",
       "      <td>porsche</td>\n",
       "      <td>panamera</td>\n",
       "      <td>2015</td>\n",
       "      <td>premium unleaded (required)</td>\n",
       "      <td>570.0</td>\n",
       "      <td>8.0</td>\n",
       "      <td>automated_manual</td>\n",
       "      <td>all wheel drive</td>\n",
       "      <td>4.0</td>\n",
       "      <td>luxury,high-performance</td>\n",
       "      <td>large</td>\n",
       "      <td>sedan</td>\n",
       "      <td>24</td>\n",
       "      <td>15</td>\n",
       "      <td>1715</td>\n",
       "      <td>180300</td>\n",
       "    </tr>\n",
       "    <tr>\n",
       "      <th>11911</th>\n",
       "      <td>lincoln</td>\n",
       "      <td>mark lt</td>\n",
       "      <td>2008</td>\n",
       "      <td>regular unleaded</td>\n",
       "      <td>300.0</td>\n",
       "      <td>8.0</td>\n",
       "      <td>automatic</td>\n",
       "      <td>rear wheel drive</td>\n",
       "      <td>4.0</td>\n",
       "      <td>luxury</td>\n",
       "      <td>large</td>\n",
       "      <td>crew cab pickup</td>\n",
       "      <td>16</td>\n",
       "      <td>12</td>\n",
       "      <td>61</td>\n",
       "      <td>38915</td>\n",
       "    </tr>\n",
       "    <tr>\n",
       "      <th>11912</th>\n",
       "      <td>lexus</td>\n",
       "      <td>gs 350</td>\n",
       "      <td>2015</td>\n",
       "      <td>premium unleaded (required)</td>\n",
       "      <td>306.0</td>\n",
       "      <td>6.0</td>\n",
       "      <td>automatic</td>\n",
       "      <td>rear wheel drive</td>\n",
       "      <td>4.0</td>\n",
       "      <td>luxury,performance</td>\n",
       "      <td>midsize</td>\n",
       "      <td>sedan</td>\n",
       "      <td>29</td>\n",
       "      <td>19</td>\n",
       "      <td>454</td>\n",
       "      <td>48600</td>\n",
       "    </tr>\n",
       "    <tr>\n",
       "      <th>11913</th>\n",
       "      <td>mazda</td>\n",
       "      <td>navajo</td>\n",
       "      <td>1994</td>\n",
       "      <td>regular unleaded</td>\n",
       "      <td>160.0</td>\n",
       "      <td>6.0</td>\n",
       "      <td>manual</td>\n",
       "      <td>rear wheel drive</td>\n",
       "      <td>2.0</td>\n",
       "      <td>0</td>\n",
       "      <td>compact</td>\n",
       "      <td>2dr suv</td>\n",
       "      <td>19</td>\n",
       "      <td>14</td>\n",
       "      <td>586</td>\n",
       "      <td>2000</td>\n",
       "    </tr>\n",
       "  </tbody>\n",
       "</table>\n",
       "<p>11914 rows × 16 columns</p>\n",
       "</div>"
      ],
      "text/plain": [
       "            make         model  year             engine_fuel_type  engine_hp  \\\n",
       "0        pontiac       le mans  1991             regular unleaded       74.0   \n",
       "1        hyundai        tucson  2017             regular unleaded      175.0   \n",
       "2         toyota  camry solara  2006             regular unleaded      157.0   \n",
       "3         toyota       corolla  2015             regular unleaded      140.0   \n",
       "4      chevrolet         astro  2005             regular unleaded      190.0   \n",
       "...          ...           ...   ...                          ...        ...   \n",
       "11909      dodge       stealth  1994             regular unleaded      320.0   \n",
       "11910    porsche      panamera  2015  premium unleaded (required)      570.0   \n",
       "11911    lincoln       mark lt  2008             regular unleaded      300.0   \n",
       "11912      lexus        gs 350  2015  premium unleaded (required)      306.0   \n",
       "11913      mazda        navajo  1994             regular unleaded      160.0   \n",
       "\n",
       "       engine_cylinders transmission_type      driven_wheels  number_of_doors  \\\n",
       "0                   4.0            manual  front wheel drive              2.0   \n",
       "1                   4.0  automated_manual  front wheel drive              4.0   \n",
       "2                   4.0         automatic  front wheel drive              2.0   \n",
       "3                   4.0         automatic  front wheel drive              4.0   \n",
       "4                   6.0         automatic   rear wheel drive              3.0   \n",
       "...                 ...               ...                ...              ...   \n",
       "11909               6.0            manual    all wheel drive              2.0   \n",
       "11910               8.0  automated_manual    all wheel drive              4.0   \n",
       "11911               8.0         automatic   rear wheel drive              4.0   \n",
       "11912               6.0         automatic   rear wheel drive              4.0   \n",
       "11913               6.0            manual   rear wheel drive              2.0   \n",
       "\n",
       "                 market_category vehicle_size      vehicle_style  highway_mpg  \\\n",
       "0                              0      compact              coupe           34   \n",
       "1                      crossover      compact            4dr suv           32   \n",
       "2                              0      midsize              coupe           30   \n",
       "3                              0      compact              sedan           40   \n",
       "4                              0        large  passenger minivan           20   \n",
       "...                          ...          ...                ...          ...   \n",
       "11909  factory tuner,performance      compact              coupe           22   \n",
       "11910    luxury,high-performance        large              sedan           24   \n",
       "11911                     luxury        large    crew cab pickup           16   \n",
       "11912         luxury,performance      midsize              sedan           29   \n",
       "11913                          0      compact            2dr suv           19   \n",
       "\n",
       "       city_mpg  popularity    msrp  \n",
       "0            25         210    2000  \n",
       "1            26        1439   24150  \n",
       "2            20        2031   20360  \n",
       "3            30        2031   19665  \n",
       "4            14        1385   24430  \n",
       "...         ...         ...     ...  \n",
       "11909        16        1851    2823  \n",
       "11910        15        1715  180300  \n",
       "11911        12          61   38915  \n",
       "11912        19         454   48600  \n",
       "11913        14         586    2000  \n",
       "\n",
       "[11914 rows x 16 columns]"
      ]
     },
     "execution_count": 290,
     "metadata": {},
     "output_type": "execute_result"
    }
   ],
   "source": [
    "df_shuffle = df.copy()\n",
    "tot_len = df_shuffle.shape[0]\n",
    "indexes = np.arange(tot_len)\n",
    "np.random.seed(2)\n",
    "np.random.shuffle(indexes)\n",
    "df_shuffle.index = indexes\n",
    "df_shuffle = df_shuffle.sort_index()\n",
    "df_shuffle"
   ]
  },
  {
   "cell_type": "code",
   "execution_count": 291,
   "id": "1eca9152-d90a-4c32-afba-367ada6f3ed2",
   "metadata": {},
   "outputs": [],
   "source": [
    "val_len = test_len = int(0.2 * tot_len)\n",
    "train_len = tot_len - val_len - test_len\n",
    "y = np.log1p(df_shuffle.msrp)\n",
    "X = df_shuffle.drop('msrp', axis=1)\n",
    "df_train = X[:train_len]\n",
    "target_train = y[:train_len]\n",
    "df_val = X[train_len:train_len + val_len]\n",
    "target_val = y[train_len:train_len + val_len]\n",
    "df_test = X[train_len + val_len:]\n",
    "target_test = y[train_len + val_len:]\n",
    "df_train = df_train.reset_index(drop=True)\n",
    "target_train = target_train.reset_index(drop=True)\n",
    "df_val = df_val.reset_index(drop=True)\n",
    "target_val = target_val.reset_index(drop=True)\n",
    "df_test = df_test.reset_index(drop=True)\n",
    "target_test = target_test.reset_index(drop=True)"
   ]
  },
  {
   "cell_type": "markdown",
   "id": "aa58ec5e-6b55-41ed-ad6c-47c0257d4beb",
   "metadata": {},
   "source": [
    "### 2.6 Linear regression"
   ]
  },
  {
   "cell_type": "code",
   "execution_count": 292,
   "id": "906bb05a-1c2d-44f9-915f-c16b8afbaf88",
   "metadata": {},
   "outputs": [],
   "source": [
    "def linear_regression(X,w):\n",
    "    return X.dot(w)"
   ]
  },
  {
   "cell_type": "markdown",
   "id": "7bcdae31-e4d9-40c5-b00d-d3ea074f9627",
   "metadata": {},
   "source": [
    "### 2.7 Training a linear regression model"
   ]
  },
  {
   "cell_type": "code",
   "execution_count": 293,
   "id": "ef4cb232-9259-4680-9ab1-716e16b455f9",
   "metadata": {},
   "outputs": [],
   "source": [
    "def train_model(X,y):\n",
    "    count = X.shape[0]\n",
    "    ones = np.ones(count)\n",
    "    X = np.column_stack([ones,X])\n",
    "    XTX = X.T.dot(X)\n",
    "    XTX_inv = np.linalg.inv(XTX)\n",
    "    w = XTX_inv.dot(X.T).dot(y)\n",
    "    return w[0], w[1:]"
   ]
  },
  {
   "cell_type": "markdown",
   "id": "f094e4e7-b9f0-4cbc-9214-c8f7ad2e30fb",
   "metadata": {},
   "source": [
    "### 2.8 Prepare features"
   ]
  },
  {
   "cell_type": "code",
   "execution_count": 294,
   "id": "d8445b70-1b87-4e1e-b929-60710fb1896b",
   "metadata": {},
   "outputs": [],
   "source": [
    "def prepare(df):\n",
    "    base = ['engine_hp', 'engine_cylinders', 'highway_mpg',\n",
    "        'city_mpg', 'popularity']\n",
    "    df = df[base]\n",
    "    X = df.values\n",
    "    return X"
   ]
  },
  {
   "cell_type": "markdown",
   "id": "f6f8371b-e23d-419f-bdfa-94721382e054",
   "metadata": {},
   "source": [
    "### 2.9 Root mean square error"
   ]
  },
  {
   "cell_type": "code",
   "execution_count": 295,
   "id": "6c663ce3-aa5c-4596-a333-5acb7d33c136",
   "metadata": {},
   "outputs": [],
   "source": [
    "def rmse(y_predict, y):\n",
    "    diff = y-y_predict\n",
    "    mean = np.mean(diff ** 2)\n",
    "    return np.sqrt(mean)"
   ]
  },
  {
   "cell_type": "markdown",
   "id": "39bce654-5543-4867-80c8-1391f119a8ca",
   "metadata": {},
   "source": [
    "### 2.10 Validating the Model"
   ]
  },
  {
   "cell_type": "code",
   "execution_count": 296,
   "id": "1d0afd17-ff08-4995-acbc-76c903f87a1b",
   "metadata": {},
   "outputs": [
    {
     "data": {
      "text/plain": [
       "np.float64(0.7635398568521404)"
      ]
     },
     "execution_count": 296,
     "metadata": {},
     "output_type": "execute_result"
    }
   ],
   "source": [
    "X_train = prepare(df_train)\n",
    "w0, w = train_model(X_train, target_train)\n",
    "X_val = prepare(df_val)\n",
    "val_predict = w0 + linear_regression(X_val, w)\n",
    "rmse(val_predict, target_val)"
   ]
  },
  {
   "cell_type": "markdown",
   "id": "b9d3c4ae-6546-4ad5-b717-83ceca3818dc",
   "metadata": {},
   "source": [
    "### 2.11 Simple feature engineering"
   ]
  },
  {
   "cell_type": "code",
   "execution_count": 297,
   "id": "946e041f-6b54-439b-b863-ddbf95bcf209",
   "metadata": {},
   "outputs": [
    {
     "data": {
      "text/plain": [
       "<matplotlib.legend.Legend at 0x775dbf5e3620>"
      ]
     },
     "execution_count": 297,
     "metadata": {},
     "output_type": "execute_result"
    },
    {
     "data": {
      "image/png": "[encoded data removed]",
      "text/plain": [
       "<Figure size 640x480 with 1 Axes>"
      ]
     },
     "metadata": {},
     "output_type": "display_data"
    }
   ],
   "source": [
    "def prepare(df):\n",
    "    df = df.copy()\n",
    "    base = ['engine_hp', 'engine_cylinders', 'highway_mpg',\n",
    "        'city_mpg', 'popularity']\n",
    "    df['age'] = 2017 - df['year']\n",
    "    base = base + ['age']\n",
    "    df = df[base]\n",
    "    X = df.values\n",
    "    return X\n",
    "\n",
    "X_train = prepare(df_train)\n",
    "w0, w = train_model(X_train, target_train)\n",
    "X_val = prepare(df_val)\n",
    "val_predict = w0 + linear_regression(X_val, w)\n",
    "rmse(val_predict, target_val)\n",
    "\n",
    "sbn.histplot(val_predict, label='prediction', color='red', alpha=0.5, bins=50)\n",
    "sbn.histplot(target_val, label='target', color='blue',  alpha=0.5, bins=50)\n",
    "plt.legend()"
   ]
  },
  {
   "cell_type": "markdown",
   "id": "b1d31f51-9dc8-4189-b7fb-0c3aef132f3b",
   "metadata": {},
   "source": [
    "### 2.12 Categorical variables"
   ]
  },
  {
   "cell_type": "code",
   "execution_count": 298,
   "id": "7d34b171-be60-4ff6-831c-815a318ae753",
   "metadata": {},
   "outputs": [
    {
     "data": {
      "text/plain": [
       "np.float64(36.57440330202377)"
      ]
     },
     "execution_count": 298,
     "metadata": {},
     "output_type": "execute_result"
    }
   ],
   "source": [
    "def prepare(df):\n",
    "    df = df.copy()\n",
    "    base = ['engine_hp', 'engine_cylinders', 'highway_mpg',\n",
    "        'city_mpg', 'popularity']\n",
    "    categorical_columns = [\n",
    "    'make', 'model', 'engine_fuel_type', 'driven_wheels', 'market_category',\n",
    "    'vehicle_size', 'vehicle_style', 'number_of_doors']\n",
    "    categorical = {}\n",
    "\n",
    "    for c in categorical_columns:\n",
    "        categorical[c] = list(df_train[c].value_counts().head().index)\n",
    "    df['age'] = 2017 - df['year']\n",
    "    base = base + ['age']\n",
    "\n",
    "    for name, values in categorical.items():\n",
    "        for value in values:\n",
    "            df['%s_%s' % (name, value)] = (df[name] == value).astype(int)\n",
    "            base.append('%s_%s' % (name, value))\n",
    "    df = df[base]\n",
    "    X = df.values\n",
    "    return X\n",
    "\n",
    "X_train = prepare(df_train)\n",
    "w0, w = train_model(X_train, target_train)\n",
    "X_val = prepare(df_val)\n",
    "val_predict = w0 + linear_regression(X_val, w)\n",
    "rmse(val_predict, target_val)"
   ]
  },
  {
   "cell_type": "markdown",
   "id": "47afd811-4264-452b-93f8-4762ccbd9f77",
   "metadata": {},
   "source": [
    "### 2.12 Regularization"
   ]
  },
  {
   "cell_type": "code",
   "execution_count": 299,
   "id": "580a6951-6921-4b34-8cb4-2d0dfafb2202",
   "metadata": {},
   "outputs": [
    {
     "data": {
      "text/plain": [
       "np.float64(0.4685209736992601)"
      ]
     },
     "execution_count": 299,
     "metadata": {},
     "output_type": "execute_result"
    }
   ],
   "source": [
    "def train_model(X,y, r=0.001):\n",
    "    count = X.shape[0]\n",
    "    ones = np.ones(count)\n",
    "    X = np.column_stack([ones,X])\n",
    "    XTX = X.T.dot(X)\n",
    "    # regularize XTX\n",
    "    XTX = XTX + r * np.eye(XTX.shape[0])\n",
    "    XTX_inv = np.linalg.inv(XTX)\n",
    "    w = XTX_inv.dot(X.T).dot(y)\n",
    "    return w[0], w[1:]\n",
    "\n",
    "X_train = prepare(df_train)\n",
    "w0, w = train_model(X_train, target_train)\n",
    "X_val = prepare(df_val)\n",
    "val_predict = w0 + linear_regression(X_val, w)\n",
    "rmse(val_predict, target_val)"
   ]
  },
  {
   "cell_type": "markdown",
   "id": "02d8d5e1-0df7-484c-8af9-56346a1f3297",
   "metadata": {},
   "source": [
    "### 2.13 Tunning the model"
   ]
  },
  {
   "cell_type": "code",
   "execution_count": 300,
   "id": "8e581201-880f-401a-88d1-dc927a286beb",
   "metadata": {},
   "outputs": [
    {
     "name": "stdout",
     "output_type": "stream",
     "text": [
      "0.0 -2737442259476904.5 36.57440330202377\n",
      "1e-07 -48435.58903714385 0.4685180040289885\n",
      "1e-06 389.2923983320966 0.4685204913322146\n",
      "1e-05 3.3808326072605643 0.4685205177314314\n",
      "0.0001 5.706033354046056 0.46852060647085736\n",
      "0.001 5.681352430981108 0.4685209736992601\n",
      "0.1 5.659765382832083 0.4685650980707033\n",
      "1 5.485358345881904 0.46922931642178994\n",
      "10 4.627224420461627 0.48080922256578473\n"
     ]
    },
    {
     "data": {
      "text/plain": [
       "np.float64(0.4685180040289885)"
      ]
     },
     "execution_count": 300,
     "metadata": {},
     "output_type": "execute_result"
    }
   ],
   "source": [
    "for r in [0.0, 0.0000001, 0.000001, 0.00001, 0.0001, 0.001, 0.1, 1, 10]:\n",
    "    X_train = prepare(df_train)\n",
    "    w0, w = train_model(X_train, target_train, r)\n",
    "    X_val = prepare(df_val)\n",
    "    val_predict = w0 + linear_regression(X_val, w)\n",
    "    score = rmse(val_predict, target_val)\n",
    "    print(r, w0, score)\n",
    "\n",
    "r = 0.0000001\n",
    "X_train = prepare(df_train)\n",
    "w0, w = train_model(X_train, target_train, r)\n",
    "X_val = prepare(df_val)\n",
    "val_predict = w0 + linear_regression(X_val, w)\n",
    "score = rmse(val_predict, target_val)\n",
    "score"
   ]
  },
  {
   "cell_type": "markdown",
   "id": "65a15714-ce40-4ebb-98f5-a6be00252547",
   "metadata": {},
   "source": [
    "### 2.14 Using the model"
   ]
  },
  {
   "cell_type": "code",
   "execution_count": 301,
   "id": "769dbe1c-3737-41be-bac5-8095585b004f",
   "metadata": {},
   "outputs": [
    {
     "data": {
      "text/plain": [
       "(np.float64(12363.135512346938), np.float64(14099.999999999996))"
      ]
     },
     "execution_count": 301,
     "metadata": {},
     "output_type": "execute_result"
    }
   ],
   "source": [
    "full_train = pd.concat([df_train, df_val])\n",
    "full_target = np.concatenate([target_train, target_val])\n",
    "X_full_train = prepare(full_train)\n",
    "X_test = prepare(df_test)\n",
    "w0, w =train_model(X_full_train,full_target, r = 0.0000001)\n",
    "test_predict = w0 + linear_regression(X_test, w)\n",
    "score = rmse(test_predict, target_test)\n",
    "\n",
    "car = df_test.iloc[5].to_dict()\n",
    "car_df = pd.DataFrame([car])\n",
    "car_df\n",
    "X_car = prepare(car_df)\n",
    "predicted_car_price =  w0 + linear_regression(X_car, w)\n",
    "predicted_car_price = predicted_car_price[0]\n",
    "predicted_car_price = np.expm1(predicted_car_price)\n",
    "real_price = np.expm1(target_test[5])\n",
    "predicted_car_price, real_price"
   ]
  }
 ],
 "metadata": {
  "kernelspec": {
   "display_name": "Python 3 (ipykernel)",
   "language": "python",
   "name": "python3"
  },
  "language_info": {
   "codemirror_mode": {
    "name": "ipython",
    "version": 3
   },
   "file_extension": ".py",
   "mimetype": "text/x-python",
   "name": "python",
   "nbconvert_exporter": "python",
   "pygments_lexer": "ipython3",
   "version": "3.12.3"
  }
 },
 "nbformat": 4,
 "nbformat_minor": 5
}
